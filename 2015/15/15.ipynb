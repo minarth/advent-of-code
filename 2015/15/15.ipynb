{
 "cells": [
  {
   "cell_type": "code",
   "execution_count": 1,
   "id": "602225c3",
   "metadata": {},
   "outputs": [],
   "source": [
    "from scipy.optimize import linprog"
   ]
  },
  {
   "cell_type": "code",
   "execution_count": null,
   "id": "6424c01c",
   "metadata": {},
   "outputs": [],
   "source": [
    "Frosting: capacity 4, durability -2, flavor 0, texture 0, calories 5\n",
    "Candy: capacity 0, durability 5, flavor -1, texture 0, calories 8\n",
    "Butterscotch: capacity -1, durability 0, flavor 5, texture 0, calories 6\n",
    "Sugar: capacity 0, durability 0, flavor -2, texture 2, calories 1\n"
   ]
  },
  {
   "cell_type": "code",
   "execution_count": null,
   "id": "7faf0e3c",
   "metadata": {},
   "outputs": [],
   "source": [
    "[-4, 2, 0, 0, 0, -5, 1, 0, 1, 0]"
   ]
  },
  {
   "cell_type": "code",
   "execution_count": 7,
   "id": "592901d5",
   "metadata": {},
   "outputs": [],
   "source": [
    "obj = [1, 2, -6, -3, -2, -3, 2, 1]"
   ]
  },
  {
   "cell_type": "code",
   "execution_count": 5,
   "id": "c9ea5413",
   "metadata": {},
   "outputs": [],
   "source": [
    "a_eq = [\n",
    "    [1,-1,0,0,0,0,0,0],\n",
    "    [0,1,-1,0,0,0,0,0],\n",
    "    [0,0,1,-1,0,0,0,0],\n",
    "    [0,0,0,0,1,-1,0,0],\n",
    "    [0,0,0,0,0,1,-1,0],\n",
    "    [0,0,0,0,0,0,1,-1],\n",
    "    [1,0,0,0,1,0,0,0]\n",
    "]\n",
    "b_eq = [0,0,0,0,0,0,100]"
   ]
  },
  {
   "cell_type": "code",
   "execution_count": 14,
   "id": "67d67952",
   "metadata": {},
   "outputs": [],
   "source": [
    "r = linprog(obj, A_eq=a_eq, b_eq=b_eq)"
   ]
  },
  {
   "cell_type": "code",
   "execution_count": 16,
   "id": "bc99e6c4",
   "metadata": {},
   "outputs": [
    {
     "data": {
      "text/plain": [
       "array([1.00000000e+02, 1.00000000e+02, 1.00000000e+02, 1.00000000e+02,\n",
       "       8.65161058e-11, 8.65161058e-11, 8.65161058e-11, 8.65161058e-11])"
      ]
     },
     "execution_count": 16,
     "metadata": {},
     "output_type": "execute_result"
    }
   ],
   "source": [
    "r.x"
   ]
  },
  {
   "cell_type": "code",
   "execution_count": 10,
   "id": "9df73570",
   "metadata": {},
   "outputs": [
    {
     "name": "stdout",
     "output_type": "stream",
     "text": [
      "Collecting pulp\n",
      "  Downloading PuLP-2.4-py3-none-any.whl (40.6 MB)\n",
      "\u001b[K     |████████████████████████████████| 40.6 MB 10.6 MB/s eta 0:00:01\n",
      "\u001b[?25hCollecting amply>=0.1.2\n",
      "  Downloading amply-0.1.4-py3-none-any.whl (16 kB)\n",
      "Requirement already satisfied: pyparsing in /Users/martin/Dev/DSB/dsb_on_web/env/lib/python3.7/site-packages (from amply>=0.1.2->pulp) (2.4.7)\n",
      "Collecting docutils>=0.3\n",
      "  Downloading docutils-0.17.1-py2.py3-none-any.whl (575 kB)\n",
      "\u001b[K     |████████████████████████████████| 575 kB 4.7 MB/s eta 0:00:01\n",
      "\u001b[?25hInstalling collected packages: docutils, amply, pulp\n",
      "Successfully installed amply-0.1.4 docutils-0.17.1 pulp-2.4\n",
      "\u001b[33mWARNING: You are using pip version 20.3.3; however, version 21.1.1 is available.\n",
      "You should consider upgrading via the '/Users/martin/Dev/DSB/dsb_on_web/env/bin/python3.7 -m pip install --upgrade pip' command.\u001b[0m\n"
     ]
    }
   ],
   "source": [
    "!pip install pulp"
   ]
  },
  {
   "cell_type": "code",
   "execution_count": 17,
   "id": "bef07db7",
   "metadata": {},
   "outputs": [],
   "source": [
    "from pulp import LpMaximize, LpProblem, LpStatus, lpSum, LpVariable"
   ]
  },
  {
   "cell_type": "code",
   "execution_count": 18,
   "id": "cf834f13",
   "metadata": {},
   "outputs": [],
   "source": [
    "model = LpProblem(name=\"part-one\", sense=LpMaximize)"
   ]
  },
  {
   "cell_type": "code",
   "execution_count": 19,
   "id": "8f7cd967",
   "metadata": {},
   "outputs": [],
   "source": [
    "x = LpVariable(name=\"x\", lowBound=0)\n",
    "y = LpVariable(name=\"y\", lowBound=0)"
   ]
  },
  {
   "cell_type": "markdown",
   "id": "a39a70c9",
   "metadata": {},
   "source": [
    "Butterscotch: capacity -1, durability -2, flavor 6, texture 3, calories 8\n",
    "\n",
    "Cinnamon: capacity 2, durability 3, flavor -2, texture -1, calories 3"
   ]
  },
  {
   "cell_type": "code",
   "execution_count": 29,
   "id": "f41061ec",
   "metadata": {},
   "outputs": [],
   "source": [
    "import numpy as np"
   ]
  },
  {
   "cell_type": "code",
   "execution_count": 52,
   "id": "6ea9c226",
   "metadata": {},
   "outputs": [
    {
     "data": {
      "text/plain": [
       "(array([[ -44,  -88,  264,  132],\n",
       "        [ 112,  168, -112,  -56]]),\n",
       " 376)"
      ]
     },
     "execution_count": 52,
     "metadata": {},
     "output_type": "execute_result"
    }
   ],
   "source": [
    "x, y = 44, 56\n",
    "obj = np.array([[-1, -2, 6, 3], [2, 3, -2, -1]]) * [[x],[y]]\n",
    "obj_value = np.sum(np.maximum(np.sum(obj, axis=0), [0,0,0,0]))\n",
    "obj, obj_value"
   ]
  },
  {
   "cell_type": "code",
   "execution_count": null,
   "id": "d76c99b5",
   "metadata": {},
   "outputs": [],
   "source": [
    "Frosting: capacity 4, durability -2, flavor 0, texture 0, calories 5\n",
    "Candy: capacity 0, durability 5, flavor -1, texture 0, calories 8\n",
    "Butterscotch: capacity -1, durability 0, flavor 5, texture 0, calories 6\n",
    "Sugar: capacity 0, durability 0, flavor -2, texture 2, calories 1\n"
   ]
  },
  {
   "cell_type": "code",
   "execution_count": 79,
   "id": "383f403b",
   "metadata": {},
   "outputs": [
    {
     "ename": "AttributeError",
     "evalue": "'list' object has no attribute 'T'",
     "output_type": "error",
     "traceback": [
      "\u001b[0;31m---------------------------------------------------------------------------\u001b[0m",
      "\u001b[0;31mAttributeError\u001b[0m                            Traceback (most recent call last)",
      "\u001b[0;32m<ipython-input-79-8b0cf2638602>\u001b[0m in \u001b[0;36m<module>\u001b[0;34m\u001b[0m\n\u001b[0;32m----> 1\u001b[0;31m \u001b[0mnp\u001b[0m\u001b[0;34m.\u001b[0m\u001b[0marray\u001b[0m\u001b[0;34m(\u001b[0m\u001b[0;34m[\u001b[0m\u001b[0;36m1\u001b[0m\u001b[0;34m,\u001b[0m\u001b[0;36m2\u001b[0m\u001b[0;34m,\u001b[0m\u001b[0;36m3\u001b[0m\u001b[0;34m,\u001b[0m\u001b[0;36m4\u001b[0m\u001b[0;34m]\u001b[0m\u001b[0;34m)\u001b[0m \u001b[0;34m*\u001b[0m \u001b[0;34m[\u001b[0m\u001b[0mcalory_condition\u001b[0m\u001b[0;34m]\u001b[0m\u001b[0;34m.\u001b[0m\u001b[0mT\u001b[0m\u001b[0;34m\u001b[0m\u001b[0;34m\u001b[0m\u001b[0m\n\u001b[0m",
      "\u001b[0;31mAttributeError\u001b[0m: 'list' object has no attribute 'T'"
     ]
    }
   ],
   "source": [
    "np.array([1,2,3,4]) * [calory_condition].T"
   ]
  },
  {
   "cell_type": "code",
   "execution_count": 98,
   "id": "e8dff1e0",
   "metadata": {},
   "outputs": [],
   "source": [
    "a, b = np.array([[2],[2],[2]]), np.array([[1,1,1]])"
   ]
  },
  {
   "cell_type": "code",
   "execution_count": 91,
   "id": "debe9923",
   "metadata": {},
   "outputs": [
    {
     "data": {
      "text/plain": [
       "array([[2],\n",
       "       [2],\n",
       "       [2]])"
      ]
     },
     "execution_count": 91,
     "metadata": {},
     "output_type": "execute_result"
    }
   ],
   "source": [
    "a"
   ]
  },
  {
   "cell_type": "code",
   "execution_count": 103,
   "id": "7b091a86",
   "metadata": {},
   "outputs": [
    {
     "data": {
      "text/plain": [
       "array([[1],\n",
       "       [1],\n",
       "       [1]])"
      ]
     },
     "execution_count": 103,
     "metadata": {},
     "output_type": "execute_result"
    }
   ],
   "source": [
    "b.T"
   ]
  },
  {
   "cell_type": "code",
   "execution_count": 99,
   "id": "0e550a37",
   "metadata": {},
   "outputs": [
    {
     "data": {
      "text/plain": [
       "(array([[2, 2, 2],\n",
       "        [2, 2, 2],\n",
       "        [2, 2, 2]]),\n",
       " array([[6]]),\n",
       " (3, 1),\n",
       " (1, 3))"
      ]
     },
     "execution_count": 99,
     "metadata": {},
     "output_type": "execute_result"
    }
   ],
   "source": [
    "a@b, b@a, a.shape, b.shape"
   ]
  },
  {
   "cell_type": "code",
   "execution_count": 102,
   "id": "dec111f2",
   "metadata": {},
   "outputs": [
    {
     "data": {
      "text/plain": [
       "6"
      ]
     },
     "execution_count": 102,
     "metadata": {},
     "output_type": "execute_result"
    }
   ],
   "source": [
    "(b@a)[0,0]"
   ]
  },
  {
   "cell_type": "code",
   "execution_count": 131,
   "id": "9ed83435",
   "metadata": {},
   "outputs": [],
   "source": [
    "a,b = np.array([[-1, -2, 6, 3], [2, 3, -2, -1]]) , np.array([[44, 56]])"
   ]
  },
  {
   "cell_type": "code",
   "execution_count": 133,
   "id": "e25ce8d0",
   "metadata": {},
   "outputs": [
    {
     "data": {
      "text/plain": [
       "array([[ 68],\n",
       "       [ 80],\n",
       "       [152],\n",
       "       [ 76]])"
      ]
     },
     "execution_count": 133,
     "metadata": {},
     "output_type": "execute_result"
    }
   ],
   "source": [
    "a.T @ b.T"
   ]
  },
  {
   "cell_type": "code",
   "execution_count": 159,
   "id": "6522dd96",
   "metadata": {},
   "outputs": [],
   "source": [
    "def _evaluate(c, x):\n",
    "    \"\"\"\n",
    "    c .. parameters\n",
    "    x .. variables\n",
    "    \"\"\"\n",
    "    #print(c.T.shape, x.T.shape)\n",
    "    #print(c.T)\n",
    "    #print(x.T)\n",
    "    #print(c.T @ x.T)\n",
    "    obj = c.T @ x.T\n",
    "    obj_value = np.prod(np.maximum(obj.T, [0,0,0,0]))\n",
    "    return obj_value"
   ]
  },
  {
   "cell_type": "code",
   "execution_count": 151,
   "id": "22de3367",
   "metadata": {},
   "outputs": [
    {
     "name": "stdout",
     "output_type": "stream",
     "text": [
      "(4, 2) (2, 1)\n",
      "[[-1  2]\n",
      " [-2  3]\n",
      " [ 6 -2]\n",
      " [ 3 -1]]\n",
      "[[44]\n",
      " [56]]\n"
     ]
    },
    {
     "data": {
      "text/plain": [
       "62842880"
      ]
     },
     "execution_count": 151,
     "metadata": {},
     "output_type": "execute_result"
    }
   ],
   "source": [
    "_evaluate(a, b)"
   ]
  },
  {
   "cell_type": "code",
   "execution_count": 154,
   "id": "1fcf024f",
   "metadata": {},
   "outputs": [
    {
     "name": "stdout",
     "output_type": "stream",
     "text": [
      "(4, 2) (2, 1)\n",
      "[[-1  2]\n",
      " [-2  3]\n",
      " [ 6 -2]\n",
      " [ 3 -1]]\n",
      "[[40]\n",
      " [60]]\n"
     ]
    },
    {
     "data": {
      "text/plain": [
       "57600000"
      ]
     },
     "execution_count": 154,
     "metadata": {},
     "output_type": "execute_result"
    }
   ],
   "source": [
    "_evaluate(a, np.array([[40, 60]]))"
   ]
  },
  {
   "cell_type": "code",
   "execution_count": 167,
   "id": "8a117c8e",
   "metadata": {
    "scrolled": true
   },
   "outputs": [
    {
     "data": {
      "text/plain": [
       "15862900"
      ]
     },
     "execution_count": 167,
     "metadata": {},
     "output_type": "execute_result"
    }
   ],
   "source": [
    "solutions = [] \n",
    "c = np.array([[4, -2, 0, 0], [0, 5, -1, 0], [-1, 0, 5, 0], [0, 0, -2, 2]])\n",
    "calory_condition = np.array([[5, 8, 6, 1]])\n",
    "for u in range(101):\n",
    "    for v in range(101-u):\n",
    "        for w in range(101-u-v):            \n",
    "            x = 100 - u - v - w\n",
    "            solution = np.array([[u,v,w,x]])\n",
    "            if x > 100 or x < 0: break\n",
    "            #print(\"=\"*5)\n",
    "            #print(_evaluate(c, solution))\n",
    "            obj = c @ solution.T\n",
    "            obj_value = np.prod(np.maximum(obj.T, [0,0,0,0]))\n",
    "            if (calory_condition @ solution.T)[0,0] == 500: \n",
    "                solutions.append(_evaluate(c, solution))\n",
    "\n",
    "max(solutions)"
   ]
  },
  {
   "cell_type": "code",
   "execution_count": null,
   "id": "b25aab6d",
   "metadata": {},
   "outputs": [],
   "source": []
  },
  {
   "cell_type": "code",
   "execution_count": null,
   "id": "36bf8370",
   "metadata": {},
   "outputs": [],
   "source": []
  },
  {
   "cell_type": "code",
   "execution_count": 23,
   "id": "592a6d21",
   "metadata": {},
   "outputs": [
    {
     "name": "stdout",
     "output_type": "stream",
     "text": [
      "100 0\n"
     ]
    }
   ],
   "source": [
    "print(x,y)\n"
   ]
  }
 ],
 "metadata": {
  "kernelspec": {
   "display_name": "Python 3",
   "language": "python",
   "name": "python3"
  },
  "language_info": {
   "codemirror_mode": {
    "name": "ipython",
    "version": 3
   },
   "file_extension": ".py",
   "mimetype": "text/x-python",
   "name": "python",
   "nbconvert_exporter": "python",
   "pygments_lexer": "ipython3",
   "version": "3.7.9"
  }
 },
 "nbformat": 4,
 "nbformat_minor": 5
}
